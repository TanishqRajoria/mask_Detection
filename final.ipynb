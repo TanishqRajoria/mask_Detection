{
  "nbformat": 4,
  "nbformat_minor": 0,
  "metadata": {
    "colab": {
      "provenance": [],
      "gpuType": "T4"
    },
    "kernelspec": {
      "name": "python3",
      "display_name": "Python 3"
    },
    "language_info": {
      "name": "python"
    },
    "accelerator": "GPU"
  },
  "cells": [
    {
      "cell_type": "code",
      "execution_count": 1,
      "metadata": {
        "id": "9Znz69CPdhVh"
      },
      "outputs": [],
      "source": [
        "!mkdir -p ~/.kaggle\n",
        "!cp kaggle.json ~/.kaggle/"
      ]
    },
    {
      "cell_type": "code",
      "source": [
        "!kaggle datasets download -d omkargurav/face-mask-dataset"
      ],
      "metadata": {
        "colab": {
          "base_uri": "https://localhost:8080/"
        },
        "id": "pc7H9g-xdvBC",
        "outputId": "d68ec9d0-337b-4646-d663-ede00c0aa19a"
      },
      "execution_count": 2,
      "outputs": [
        {
          "output_type": "stream",
          "name": "stdout",
          "text": [
            "Warning: Your Kaggle API key is readable by other users on this system! To fix this, you can run 'chmod 600 /root/.kaggle/kaggle.json'\n",
            "Downloading face-mask-dataset.zip to /content\n",
            " 97% 159M/163M [00:03<00:00, 70.1MB/s]\n",
            "100% 163M/163M [00:03<00:00, 53.0MB/s]\n"
          ]
        }
      ]
    },
    {
      "cell_type": "code",
      "source": [
        "import numpy as np\n",
        "import pandas as pd\n",
        "import matplotlib.pyplot as plt\n",
        "from tensorflow.keras.layers import Dense,Conv2D,MaxPooling2D,Flatten\n",
        "from tensorflow.keras import Sequential,layers\n"
      ],
      "metadata": {
        "id": "N3wMWyWqfoFK"
      },
      "execution_count": 3,
      "outputs": []
    },
    {
      "cell_type": "code",
      "source": [
        "import zipfile\n",
        "zip_ref=zipfile.ZipFile('/content/face-mask-dataset.zip')\n",
        "zip_ref.extractall('/content')\n",
        "zip_ref.close()"
      ],
      "metadata": {
        "id": "i0OHCWH6gFjE"
      },
      "execution_count": 4,
      "outputs": []
    },
    {
      "cell_type": "code",
      "source": [
        "import os\n",
        "\n",
        "parent_dir='/content/data'\n",
        "dir1='train'\n",
        "dir2='test'\n",
        "path1=os.path.join(parent_dir,dir1)\n",
        "path2=os.path.join(parent_dir,dir2)\n",
        "\n",
        "os.mkdir(path1)\n",
        "os.mkdir(path2)\n"
      ],
      "metadata": {
        "id": "PZlZoGHlOZwQ"
      },
      "execution_count": 5,
      "outputs": []
    },
    {
      "cell_type": "code",
      "source": [
        "parent_dir='/content/data/train'\n",
        "dir1='with_mask'\n",
        "dir2='without_mask'\n",
        "path1=os.path.join(parent_dir,dir1)\n",
        "path2=os.path.join(parent_dir,dir2)\n",
        "\n",
        "os.mkdir(path1)\n",
        "os.mkdir(path2)"
      ],
      "metadata": {
        "id": "MRRUePk9ss9D"
      },
      "execution_count": 6,
      "outputs": []
    },
    {
      "cell_type": "code",
      "source": [
        "parent_dir='/content/data/test'\n",
        "dir1='with_mask'\n",
        "dir2='without_mask'\n",
        "path1=os.path.join(parent_dir,dir1)\n",
        "path2=os.path.join(parent_dir,dir2)\n",
        "\n",
        "os.mkdir(path1)\n",
        "os.mkdir(path2)"
      ],
      "metadata": {
        "id": "oWOCAE7-s2hu"
      },
      "execution_count": 7,
      "outputs": []
    },
    {
      "cell_type": "code",
      "source": [
        "import os\n",
        "import random\n",
        "import shutil\n",
        "\n",
        "source = '/content/data/with_mask'\n",
        "dest = '/content/data/train/with_mask'\n",
        "files = os.listdir(source)\n",
        "\n",
        "no_of_files = len(files)-(len(files) // 30)\n",
        "\n",
        "for file_name in random.sample(files, no_of_files):\n",
        "    shutil.move(os.path.join(source, file_name), dest)"
      ],
      "metadata": {
        "id": "56uR2qtKoRz3"
      },
      "execution_count": 8,
      "outputs": []
    },
    {
      "cell_type": "code",
      "source": [
        "source = '/content/data/without_mask'\n",
        "dest = '/content/data/train/without_mask'\n",
        "files = os.listdir(source)\n",
        "no_of_files = len(files)-(len(files) // 2)\n",
        "\n",
        "for file_name in random.sample(files, no_of_files):\n",
        "    shutil.move(os.path.join(source, file_name), dest)"
      ],
      "metadata": {
        "id": "3JcIbBrdpIk_"
      },
      "execution_count": 9,
      "outputs": []
    },
    {
      "cell_type": "code",
      "source": [
        "source = '/content/data/without_mask'\n",
        "dest = '/content/data/test/without_mask'\n",
        "files = os.listdir(source)\n",
        "no_of_files = len(files) // 30\n",
        "\n",
        "for file_name in random.sample(files, no_of_files):\n",
        "    shutil.move(os.path.join(source, file_name), dest)"
      ],
      "metadata": {
        "id": "pu1nGsVJpSRF"
      },
      "execution_count": 10,
      "outputs": []
    },
    {
      "cell_type": "code",
      "source": [
        "source = '/content/data/with_mask'\n",
        "dest = '/content/data/test/with_mask'\n",
        "files = os.listdir(source)\n",
        "no_of_files = len(files) // 30\n",
        "\n",
        "for file_name in random.sample(files, no_of_files):\n",
        "    shutil.move(os.path.join(source, file_name), dest)"
      ],
      "metadata": {
        "id": "yFAxvIpOpR1E"
      },
      "execution_count": 11,
      "outputs": []
    },
    {
      "cell_type": "code",
      "source": [
        "import tensorflow as tf\n",
        "train_df=tf.keras.utils.image_dataset_from_directory(\n",
        "    directory='/content/data/train',\n",
        "    labels='inferred',\n",
        "    label_mode='int',\n",
        "    batch_size=32,\n",
        "    image_size=(256,256)\n",
        ")"
      ],
      "metadata": {
        "colab": {
          "base_uri": "https://localhost:8080/"
        },
        "id": "0U5SWOeihw3r",
        "outputId": "34e7cddb-a37a-4ce7-aff1-85aeace25ec2"
      },
      "execution_count": 12,
      "outputs": [
        {
          "output_type": "stream",
          "name": "stdout",
          "text": [
            "Found 5515 files belonging to 2 classes.\n"
          ]
        }
      ]
    },
    {
      "cell_type": "code",
      "source": [
        "test_df=tf.keras.utils.image_dataset_from_directory(\n",
        "    directory='/content/data/test',\n",
        "    labels='inferred',\n",
        "    label_mode='int',\n",
        "    batch_size=32,\n",
        "    image_size=(256,256)\n",
        ")"
      ],
      "metadata": {
        "colab": {
          "base_uri": "https://localhost:8080/"
        },
        "id": "SEUt1Z0ulnhI",
        "outputId": "c1809cdf-6a53-4916-bdf4-de307100c259"
      },
      "execution_count": 13,
      "outputs": [
        {
          "output_type": "stream",
          "name": "stdout",
          "text": [
            "Found 67 files belonging to 2 classes.\n"
          ]
        }
      ]
    },
    {
      "cell_type": "code",
      "source": [
        "def process(image,labels):\n",
        "  image=tf.cast(image/255,tf.float32)\n",
        "  return image,labels"
      ],
      "metadata": {
        "id": "dBJBK2W3uvmY"
      },
      "execution_count": 14,
      "outputs": []
    },
    {
      "cell_type": "code",
      "source": [
        "train_df=train_df.map(process)\n",
        "test_df=test_df.map(process)"
      ],
      "metadata": {
        "id": "O_0G9MnsvOd9"
      },
      "execution_count": 15,
      "outputs": []
    },
    {
      "cell_type": "code",
      "source": [
        "model=Sequential()"
      ],
      "metadata": {
        "id": "iwhaTx-AvXHg"
      },
      "execution_count": 16,
      "outputs": []
    },
    {
      "cell_type": "code",
      "source": [
        "model.add(layers.Conv2D(32,(3,3),activation='relu',padding='valid',input_shape=(256,256,3)))\n",
        "model.add(layers.MaxPooling2D((2,2),strides=2,padding='valid'))\n",
        "model.add(layers.Conv2D(64,(3,3),activation='relu',padding='valid'))\n",
        "model.add(layers.MaxPooling2D((2,2),strides=2,padding='valid'))\n",
        "model.add(layers.Conv2D(128,(3,3),activation='relu',padding='valid'))\n",
        "\n",
        "\n",
        "model.add(layers.Flatten())\n",
        "model.add(layers.Dense(128,activation='relu'))\n",
        "model.add(layers.Dense(64,activation='relu'))\n",
        "model.add(layers.Dense(1,activation='sigmoid'))"
      ],
      "metadata": {
        "id": "kwqeU07Hvb_P"
      },
      "execution_count": 17,
      "outputs": []
    },
    {
      "cell_type": "code",
      "source": [
        "model.compile(optimizer='adam',loss='BinaryCrossentropy',metrics=['accuracy'])\n",
        "history=model.fit(train_df,epochs=5,validation_data=train_df)"
      ],
      "metadata": {
        "colab": {
          "base_uri": "https://localhost:8080/"
        },
        "id": "zyRnf1U5vk3E",
        "outputId": "87c03fb6-0c16-4167-e26e-068d79d067cb"
      },
      "execution_count": 19,
      "outputs": [
        {
          "output_type": "stream",
          "name": "stdout",
          "text": [
            "Epoch 1/5\n",
            "173/173 [==============================] - 27s 146ms/step - loss: 0.2337 - accuracy: 0.9041 - val_loss: 0.1792 - val_accuracy: 0.9229\n",
            "Epoch 2/5\n",
            "173/173 [==============================] - 25s 144ms/step - loss: 0.1809 - accuracy: 0.9278 - val_loss: 0.1378 - val_accuracy: 0.9507\n",
            "Epoch 3/5\n",
            "173/173 [==============================] - 26s 151ms/step - loss: 0.1291 - accuracy: 0.9494 - val_loss: 0.0819 - val_accuracy: 0.9688\n",
            "Epoch 4/5\n",
            "173/173 [==============================] - 25s 144ms/step - loss: 0.1045 - accuracy: 0.9637 - val_loss: 0.0743 - val_accuracy: 0.9686\n",
            "Epoch 5/5\n",
            "173/173 [==============================] - 25s 144ms/step - loss: 0.0748 - accuracy: 0.9723 - val_loss: 0.0521 - val_accuracy: 0.9801\n"
          ]
        }
      ]
    },
    {
      "cell_type": "code",
      "source": [],
      "metadata": {
        "id": "yfb32gQFxOcA"
      },
      "execution_count": null,
      "outputs": []
    }
  ]
}